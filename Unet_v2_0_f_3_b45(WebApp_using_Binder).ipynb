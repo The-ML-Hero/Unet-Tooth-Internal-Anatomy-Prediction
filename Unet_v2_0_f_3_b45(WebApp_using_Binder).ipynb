{
  "nbformat": 4,
  "nbformat_minor": 0,
  "metadata": {
    "colab": {
      "name": "Unet v2.0.f.3.b45(WebApp using Binder).ipynb",
      "provenance": [],
      "collapsed_sections": [
        "1jxilCfTl9GJ",
        "lREEVl55KYUP",
        "7bap0glbKu0d",
        "OX5f8RajK9QD"
      ],
      "toc_visible": true
    },
    "kernelspec": {
      "name": "python3",
      "display_name": "Python 3"
    },
    "accelerator": "GPU",
    "widgets": {
      "application/vnd.jupyter.widget-state+json": {
        "e22b49b17e5642c1a07dd02313c19969": {
          "model_module": "@jupyter-widgets/controls",
          "model_name": "VBoxModel",
          "state": {
            "_view_name": "VBoxView",
            "_dom_classes": [],
            "_model_name": "VBoxModel",
            "_view_module": "@jupyter-widgets/controls",
            "_model_module_version": "1.5.0",
            "_view_count": null,
            "_view_module_version": "1.5.0",
            "box_style": "",
            "layout": "IPY_MODEL_2b0931ad4a624130ac741f1a1b2268a0",
            "_model_module": "@jupyter-widgets/controls",
            "children": [
              "IPY_MODEL_f8ab57a2fd8b4a7b977ba99df2a8c68b",
              "IPY_MODEL_16d3c038185645a0ab5911ba1fb0943c",
              "IPY_MODEL_320facc61eaf44b7a7fce1adfe49e7fb",
              "IPY_MODEL_c94b06d5946d49dc859d762b11ec1bad",
              "IPY_MODEL_e5e1f8becd6b48eda0049f78eb28b338",
              "IPY_MODEL_d0ae20c610b34d58bf4dbc565e36e788"
            ]
          }
        },
        "2b0931ad4a624130ac741f1a1b2268a0": {
          "model_module": "@jupyter-widgets/base",
          "model_name": "LayoutModel",
          "state": {
            "_view_name": "LayoutView",
            "grid_template_rows": null,
            "right": null,
            "justify_content": null,
            "_view_module": "@jupyter-widgets/base",
            "overflow": null,
            "_model_module_version": "1.2.0",
            "_view_count": null,
            "flex_flow": null,
            "width": null,
            "min_width": null,
            "border": null,
            "align_items": null,
            "bottom": null,
            "_model_module": "@jupyter-widgets/base",
            "top": null,
            "grid_column": null,
            "overflow_y": null,
            "overflow_x": null,
            "grid_auto_flow": null,
            "grid_area": null,
            "grid_template_columns": null,
            "flex": null,
            "_model_name": "LayoutModel",
            "justify_items": null,
            "grid_row": null,
            "max_height": null,
            "align_content": null,
            "visibility": null,
            "align_self": null,
            "height": null,
            "min_height": null,
            "padding": null,
            "grid_auto_rows": null,
            "grid_gap": null,
            "max_width": null,
            "order": null,
            "_view_module_version": "1.2.0",
            "grid_template_areas": null,
            "object_position": null,
            "object_fit": null,
            "grid_auto_columns": null,
            "margin": null,
            "display": null,
            "left": null
          }
        },
        "f8ab57a2fd8b4a7b977ba99df2a8c68b": {
          "model_module": "@jupyter-widgets/controls",
          "model_name": "HTMLModel",
          "state": {
            "_view_name": "HTMLView",
            "style": "IPY_MODEL_8d97eedf9ca64e33b102972b7aa49913",
            "_dom_classes": [],
            "description": "",
            "_model_name": "HTMLModel",
            "placeholder": "​",
            "_view_module": "@jupyter-widgets/controls",
            "_model_module_version": "1.5.0",
            "value": "<h1><b>Unet Tooth Internal Anatomy Prediction by <i> A.Adithya Sherwood </i></b></h1>",
            "_view_count": null,
            "_view_module_version": "1.5.0",
            "description_tooltip": null,
            "_model_module": "@jupyter-widgets/controls",
            "layout": "IPY_MODEL_e3b5d1217abc4a2c95ef9b97b8f3f095"
          }
        },
        "16d3c038185645a0ab5911ba1fb0943c": {
          "model_module": "@jupyter-widgets/controls",
          "model_name": "HTMLModel",
          "state": {
            "_view_name": "HTMLView",
            "style": "IPY_MODEL_809d088fa0da4c2d9fc6b73716a10951",
            "_dom_classes": [],
            "description": "",
            "_model_name": "HTMLModel",
            "placeholder": "​",
            "_view_module": "@jupyter-widgets/controls",
            "_model_module_version": "1.5.0",
            "value": "<p>Please Upload a <b>.png</b> slice</p>",
            "_view_count": null,
            "_view_module_version": "1.5.0",
            "description_tooltip": null,
            "_model_module": "@jupyter-widgets/controls",
            "layout": "IPY_MODEL_b58a4be82ced4acc99737d04e3daa7d8"
          }
        },
        "320facc61eaf44b7a7fce1adfe49e7fb": {
          "model_module": "@jupyter-widgets/controls",
          "model_name": "FileUploadModel",
          "state": {
            "_view_name": "FileUploadView",
            "_counter": 1,
            "style": "IPY_MODEL_c72692315bf04dafa512b2317ce2317e",
            "_dom_classes": [],
            "description": "Upload",
            "multiple": false,
            "_model_name": "FileUploadModel",
            "data": [
              null
            ],
            "button_style": "",
            "_view_module": "@jupyter-widgets/controls",
            "_model_module_version": "1.5.0",
            "accept": ".png",
            "_view_count": null,
            "disabled": false,
            "_view_module_version": "1.5.0",
            "error": "",
            "description_tooltip": null,
            "metadata": [
              {
                "name": "axial0400.png",
                "type": "image/png",
                "size": 178494,
                "lastModified": 1598246271678
              }
            ],
            "_model_module": "@jupyter-widgets/controls",
            "layout": "IPY_MODEL_2124b7fd0479455f87dadf93772ef926",
            "icon": "upload"
          }
        },
        "c94b06d5946d49dc859d762b11ec1bad": {
          "model_module": "@jupyter-widgets/output",
          "model_name": "OutputModel",
          "state": {
            "_view_name": "OutputView",
            "msg_id": "",
            "_dom_classes": [],
            "_model_name": "OutputModel",
            "outputs": [
              {
                "output_type": "display_data",
                "metadata": {
                  "tags": []
                },
                "image/png": "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\n",
                "text/plain": "<PIL.Image.Image image mode=RGB size=256x256 at 0x7FCE6ECE1AC8>"
              }
            ],
            "_view_module": "@jupyter-widgets/output",
            "_model_module_version": "1.0.0",
            "_view_count": null,
            "_view_module_version": "1.0.0",
            "layout": "IPY_MODEL_be21f7070adf4d3cb334e9fcecd8f70e",
            "_model_module": "@jupyter-widgets/output"
          }
        },
        "e5e1f8becd6b48eda0049f78eb28b338": {
          "model_module": "@jupyter-widgets/controls",
          "model_name": "ButtonModel",
          "state": {
            "_view_name": "ButtonView",
            "style": "IPY_MODEL_3605efc2842a4d0596a2b8e8c5070fa7",
            "_dom_classes": [],
            "description": "Predict",
            "_model_name": "ButtonModel",
            "button_style": "",
            "_view_module": "@jupyter-widgets/controls",
            "_model_module_version": "1.5.0",
            "tooltip": "",
            "_view_count": null,
            "disabled": false,
            "_view_module_version": "1.5.0",
            "layout": "IPY_MODEL_19bd41a77ee44d9c9e063c3de985330d",
            "_model_module": "@jupyter-widgets/controls",
            "icon": ""
          }
        },
        "d0ae20c610b34d58bf4dbc565e36e788": {
          "model_module": "@jupyter-widgets/output",
          "model_name": "OutputModel",
          "state": {
            "_view_name": "OutputView",
            "msg_id": "",
            "_dom_classes": [],
            "_model_name": "OutputModel",
            "outputs": [
              {
                "output_type": "display_data",
                "metadata": {
                  "tags": []
                },
                "image/png": "iVBORw0KGgoAAAANSUhEUgAAAQAAAAEACAYAAABccqhmAAAABHNCSVQICAgIfAhkiAAAAAlwSFlzAAAPYQAAD2EBqD+naQAAA8FJREFUeJzt27FtwlAUQFGImIIpGCKSF8iybMEUrJFUoAABkQJ/i3tOZbv6zbt6yHj9uf76XgFJH6MPAIwjABAmABAmABAmABAmABAmABAmABAmABAmABAmABAmABAmABAmABAmABAmABAmABAmABAmABAmABAmABAmABAmABAmABAmABAmABAmABAmABAmABAmABAmABAmABAmABAmABAmABAmABAmABAmABAmABAmABAmABAmABAmABAmABAmABAmABAmABAmABAmABAmABAmABAmABAmABAmABAmABAmABAmABAmABAmABAmABC2GX2Auv3xcHE/bXeDTkKRDWCg6+G/9wxeRQAGeTToIsBcBGCAZwZcBJiDAMzMYLMkArBgYsGrCQCECQCECcDMvOdnSQQAwgRggGe3ANsCryYAgxhulkAABpq2u7shEAjmIAALcD3shp+5+BpwIQw9I9gAIEwAIEwAIEwAIEwAIEwAIEwAIEwAIEwAIEwAIEwAIEwAIEwAIEwAIEwAIEwAIEwAIEwAIEwAIEwAIEwAIEwAIEwAIEwAIEwAIEwAIEwAIEwAIEwAIEwAIEwAIEwAIEwAIEwAIEwAIEwAIEwAIEwAIEwAIEwAIEwAIEwAIGwz+gCMsz8eztfTdjfwJIxiAwjaHw8Xw396Ro8AxDwadBHoEYCQZwZcBFoEgBsi0CEA/EkEGgQAwgQg5L+v+mwB708AYkSA3wQAwgQgyL/+OBGAqGm7EwIEoE4E2gSAhxEQiPcmAKxWq9tB9xOhwefAnBn4HhsAhAkAhAkAhAkAhAkAhAkAhAkAhAkAhAkAhAkAhAkAhAkAhAkAhAkAhAkAhAkAhAkAhAkAhAkAhAkAhAkAhAkAhAkAhAkAhAkAhAkAhAkAhAkAhAkAhAkAhAkAhAkAhAkAhAkAhAkAhAkAhAkAhAkAhAkAhAkAhAkAhAkAhAkAhAkAhAkAhAkAhAkAhAkAhAkAhAkAhAkAhAkAhAkAhAkAhAkAhAkAhAkAhAkAhAkAhAkAhAkAhAkAhAkAhAkAhAkAhAkAhAkAhAkAhAkAhAkAhAkAhAkAhAkAhAkAhAkAhAkAhAkAhAkAhAkAhAkAhAkAhAkAhAkAhAkAhAkAhAkAhAkAhAkAhAkAhAkAhAkAhAkAhAkAhAkAhAkAhAkAhAkAhAkAhAkAhAkAhAkAhAkAhAkAhAkAhAkAhAkAhAkAhAkAhAkAhAkAhAkAhAkAhAkAhAkAhAkAhAkAhAkAhAkAhAkAhAkAhAkAhAkAhP0AlTREU2lgrvAAAAAASUVORK5CYII=\n",
                "image/jpeg": "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\n",
                "text/plain": "Image (1, 256, 256)"
              }
            ],
            "_view_module": "@jupyter-widgets/output",
            "_model_module_version": "1.0.0",
            "_view_count": null,
            "_view_module_version": "1.0.0",
            "layout": "IPY_MODEL_b624f5914b6a4d0c8aaa67d60727f01b",
            "_model_module": "@jupyter-widgets/output"
          }
        },
        "8d97eedf9ca64e33b102972b7aa49913": {
          "model_module": "@jupyter-widgets/controls",
          "model_name": "DescriptionStyleModel",
          "state": {
            "_view_name": "StyleView",
            "_model_name": "DescriptionStyleModel",
            "description_width": "",
            "_view_module": "@jupyter-widgets/base",
            "_model_module_version": "1.5.0",
            "_view_count": null,
            "_view_module_version": "1.2.0",
            "_model_module": "@jupyter-widgets/controls"
          }
        },
        "e3b5d1217abc4a2c95ef9b97b8f3f095": {
          "model_module": "@jupyter-widgets/base",
          "model_name": "LayoutModel",
          "state": {
            "_view_name": "LayoutView",
            "grid_template_rows": null,
            "right": null,
            "justify_content": null,
            "_view_module": "@jupyter-widgets/base",
            "overflow": null,
            "_model_module_version": "1.2.0",
            "_view_count": null,
            "flex_flow": null,
            "width": null,
            "min_width": null,
            "border": null,
            "align_items": null,
            "bottom": null,
            "_model_module": "@jupyter-widgets/base",
            "top": null,
            "grid_column": null,
            "overflow_y": null,
            "overflow_x": null,
            "grid_auto_flow": null,
            "grid_area": null,
            "grid_template_columns": null,
            "flex": null,
            "_model_name": "LayoutModel",
            "justify_items": null,
            "grid_row": null,
            "max_height": null,
            "align_content": null,
            "visibility": null,
            "align_self": null,
            "height": null,
            "min_height": null,
            "padding": null,
            "grid_auto_rows": null,
            "grid_gap": null,
            "max_width": null,
            "order": null,
            "_view_module_version": "1.2.0",
            "grid_template_areas": null,
            "object_position": null,
            "object_fit": null,
            "grid_auto_columns": null,
            "margin": null,
            "display": null,
            "left": null
          }
        },
        "809d088fa0da4c2d9fc6b73716a10951": {
          "model_module": "@jupyter-widgets/controls",
          "model_name": "DescriptionStyleModel",
          "state": {
            "_view_name": "StyleView",
            "_model_name": "DescriptionStyleModel",
            "description_width": "",
            "_view_module": "@jupyter-widgets/base",
            "_model_module_version": "1.5.0",
            "_view_count": null,
            "_view_module_version": "1.2.0",
            "_model_module": "@jupyter-widgets/controls"
          }
        },
        "b58a4be82ced4acc99737d04e3daa7d8": {
          "model_module": "@jupyter-widgets/base",
          "model_name": "LayoutModel",
          "state": {
            "_view_name": "LayoutView",
            "grid_template_rows": null,
            "right": null,
            "justify_content": null,
            "_view_module": "@jupyter-widgets/base",
            "overflow": null,
            "_model_module_version": "1.2.0",
            "_view_count": null,
            "flex_flow": null,
            "width": null,
            "min_width": null,
            "border": null,
            "align_items": null,
            "bottom": null,
            "_model_module": "@jupyter-widgets/base",
            "top": null,
            "grid_column": null,
            "overflow_y": null,
            "overflow_x": null,
            "grid_auto_flow": null,
            "grid_area": null,
            "grid_template_columns": null,
            "flex": null,
            "_model_name": "LayoutModel",
            "justify_items": null,
            "grid_row": null,
            "max_height": null,
            "align_content": null,
            "visibility": null,
            "align_self": null,
            "height": null,
            "min_height": null,
            "padding": null,
            "grid_auto_rows": null,
            "grid_gap": null,
            "max_width": null,
            "order": null,
            "_view_module_version": "1.2.0",
            "grid_template_areas": null,
            "object_position": null,
            "object_fit": null,
            "grid_auto_columns": null,
            "margin": null,
            "display": null,
            "left": null
          }
        },
        "c72692315bf04dafa512b2317ce2317e": {
          "model_module": "@jupyter-widgets/controls",
          "model_name": "ButtonStyleModel",
          "state": {
            "_view_name": "StyleView",
            "_model_name": "ButtonStyleModel",
            "_view_module": "@jupyter-widgets/base",
            "_model_module_version": "1.5.0",
            "_view_count": null,
            "button_color": null,
            "font_weight": "",
            "_view_module_version": "1.2.0",
            "_model_module": "@jupyter-widgets/controls"
          }
        },
        "2124b7fd0479455f87dadf93772ef926": {
          "model_module": "@jupyter-widgets/base",
          "model_name": "LayoutModel",
          "state": {
            "_view_name": "LayoutView",
            "grid_template_rows": null,
            "right": null,
            "justify_content": null,
            "_view_module": "@jupyter-widgets/base",
            "overflow": null,
            "_model_module_version": "1.2.0",
            "_view_count": null,
            "flex_flow": null,
            "width": null,
            "min_width": null,
            "border": null,
            "align_items": null,
            "bottom": null,
            "_model_module": "@jupyter-widgets/base",
            "top": null,
            "grid_column": null,
            "overflow_y": null,
            "overflow_x": null,
            "grid_auto_flow": null,
            "grid_area": null,
            "grid_template_columns": null,
            "flex": null,
            "_model_name": "LayoutModel",
            "justify_items": null,
            "grid_row": null,
            "max_height": null,
            "align_content": null,
            "visibility": null,
            "align_self": null,
            "height": null,
            "min_height": null,
            "padding": null,
            "grid_auto_rows": null,
            "grid_gap": null,
            "max_width": null,
            "order": null,
            "_view_module_version": "1.2.0",
            "grid_template_areas": null,
            "object_position": null,
            "object_fit": null,
            "grid_auto_columns": null,
            "margin": null,
            "display": null,
            "left": null
          }
        },
        "3605efc2842a4d0596a2b8e8c5070fa7": {
          "model_module": "@jupyter-widgets/controls",
          "model_name": "ButtonStyleModel",
          "state": {
            "_view_name": "StyleView",
            "_model_name": "ButtonStyleModel",
            "_view_module": "@jupyter-widgets/base",
            "_model_module_version": "1.5.0",
            "_view_count": null,
            "button_color": null,
            "font_weight": "",
            "_view_module_version": "1.2.0",
            "_model_module": "@jupyter-widgets/controls"
          }
        },
        "19bd41a77ee44d9c9e063c3de985330d": {
          "model_module": "@jupyter-widgets/base",
          "model_name": "LayoutModel",
          "state": {
            "_view_name": "LayoutView",
            "grid_template_rows": null,
            "right": null,
            "justify_content": null,
            "_view_module": "@jupyter-widgets/base",
            "overflow": null,
            "_model_module_version": "1.2.0",
            "_view_count": null,
            "flex_flow": null,
            "width": null,
            "min_width": null,
            "border": null,
            "align_items": null,
            "bottom": null,
            "_model_module": "@jupyter-widgets/base",
            "top": null,
            "grid_column": null,
            "overflow_y": null,
            "overflow_x": null,
            "grid_auto_flow": null,
            "grid_area": null,
            "grid_template_columns": null,
            "flex": null,
            "_model_name": "LayoutModel",
            "justify_items": null,
            "grid_row": null,
            "max_height": null,
            "align_content": null,
            "visibility": null,
            "align_self": null,
            "height": null,
            "min_height": null,
            "padding": null,
            "grid_auto_rows": null,
            "grid_gap": null,
            "max_width": null,
            "order": null,
            "_view_module_version": "1.2.0",
            "grid_template_areas": null,
            "object_position": null,
            "object_fit": null,
            "grid_auto_columns": null,
            "margin": null,
            "display": null,
            "left": null
          }
        },
        "be21f7070adf4d3cb334e9fcecd8f70e": {
          "model_module": "@jupyter-widgets/base",
          "model_name": "LayoutModel",
          "state": {
            "_view_name": "LayoutView",
            "grid_template_rows": null,
            "right": null,
            "justify_content": null,
            "_view_module": "@jupyter-widgets/base",
            "overflow": null,
            "_model_module_version": "1.2.0",
            "_view_count": null,
            "flex_flow": null,
            "width": null,
            "min_width": null,
            "border": null,
            "align_items": null,
            "bottom": null,
            "_model_module": "@jupyter-widgets/base",
            "top": null,
            "grid_column": null,
            "overflow_y": null,
            "overflow_x": null,
            "grid_auto_flow": null,
            "grid_area": null,
            "grid_template_columns": null,
            "flex": null,
            "_model_name": "LayoutModel",
            "justify_items": null,
            "grid_row": null,
            "max_height": null,
            "align_content": null,
            "visibility": null,
            "align_self": null,
            "height": null,
            "min_height": null,
            "padding": null,
            "grid_auto_rows": null,
            "grid_gap": null,
            "max_width": null,
            "order": null,
            "_view_module_version": "1.2.0",
            "grid_template_areas": null,
            "object_position": null,
            "object_fit": null,
            "grid_auto_columns": null,
            "margin": null,
            "display": null,
            "left": null
          }
        },
        "b624f5914b6a4d0c8aaa67d60727f01b": {
          "model_module": "@jupyter-widgets/base",
          "model_name": "LayoutModel",
          "state": {
            "_view_name": "LayoutView",
            "grid_template_rows": null,
            "right": null,
            "justify_content": null,
            "_view_module": "@jupyter-widgets/base",
            "overflow": null,
            "_model_module_version": "1.2.0",
            "_view_count": null,
            "flex_flow": null,
            "width": null,
            "min_width": null,
            "border": null,
            "align_items": null,
            "bottom": null,
            "_model_module": "@jupyter-widgets/base",
            "top": null,
            "grid_column": null,
            "overflow_y": null,
            "overflow_x": null,
            "grid_auto_flow": null,
            "grid_area": null,
            "grid_template_columns": null,
            "flex": null,
            "_model_name": "LayoutModel",
            "justify_items": null,
            "grid_row": null,
            "max_height": null,
            "align_content": null,
            "visibility": null,
            "align_self": null,
            "height": null,
            "min_height": null,
            "padding": null,
            "grid_auto_rows": null,
            "grid_gap": null,
            "max_width": null,
            "order": null,
            "_view_module_version": "1.2.0",
            "grid_template_areas": null,
            "object_position": null,
            "object_fit": null,
            "grid_auto_columns": null,
            "margin": null,
            "display": null,
            "left": null
          }
        }
      }
    }
  },
  "cells": [
    {
      "cell_type": "code",
      "metadata": {
        "id": "p7TDMr3JLwwW",
        "colab_type": "code",
        "colab": {}
      },
      "source": [
        "from fastai import *\n",
        "from fastai.vision import *  \n",
        "import ipywidgets as widgets\n",
        "import io\n",
        "import PIL\n",
        "import matplotlib.pyplot as plt"
      ],
      "execution_count": 4,
      "outputs": []
    },
    {
      "cell_type": "code",
      "metadata": {
        "id": "TJ15DBmyNQOU",
        "colab_type": "code",
        "colab": {}
      },
      "source": [
        "learn = load_learner('/content/drive/My Drive/Unet-v2')"
      ],
      "execution_count": 6,
      "outputs": []
    },
    {
      "cell_type": "code",
      "metadata": {
        "id": "R8sj7yMXMOMX",
        "colab_type": "code",
        "colab": {}
      },
      "source": [
        "uploaded_img = widgets.FileUpload(accept='.png',multiple=False)\n",
        "out = widgets.Output()\n",
        "btn_run = widgets.Button(description='Predict')\n",
        "out_pred = widgets.Output()"
      ],
      "execution_count": 14,
      "outputs": []
    },
    {
      "cell_type": "code",
      "metadata": {
        "id": "jyzRK3ByXzQc",
        "colab_type": "code",
        "colab": {}
      },
      "source": [
        "def on_click_predict_btn(change):\n",
        "  img_byte = PIL.Image.open(io.BytesIO(uploaded_img.data[-1]))\n",
        "  img_byte.save(\"input.png\")\n",
        "  img_arr = plt.imread('input.png')\n",
        "  out.clear_output()\n",
        "  with out:display(img_byte.resize((256,256)))\n",
        "  img = pil2tensor(img_arr,dtype=np.float32)\n",
        "  cat,tensor,probs = learn.predict(Image(img))\n",
        "  out_pred.clear_output()\n",
        "  with out_pred:display(Image(tensor))\n",
        "btn_run.on_click(on_click_predict_btn)"
      ],
      "execution_count": 11,
      "outputs": []
    },
    {
      "cell_type": "code",
      "metadata": {
        "id": "-LLjmKOVaA8O",
        "colab_type": "code",
        "colab": {
          "base_uri": "https://localhost:8080/",
          "height": 690,
          "referenced_widgets": [
            "e22b49b17e5642c1a07dd02313c19969",
            "2b0931ad4a624130ac741f1a1b2268a0",
            "f8ab57a2fd8b4a7b977ba99df2a8c68b",
            "16d3c038185645a0ab5911ba1fb0943c",
            "320facc61eaf44b7a7fce1adfe49e7fb",
            "c94b06d5946d49dc859d762b11ec1bad",
            "e5e1f8becd6b48eda0049f78eb28b338",
            "d0ae20c610b34d58bf4dbc565e36e788",
            "8d97eedf9ca64e33b102972b7aa49913",
            "e3b5d1217abc4a2c95ef9b97b8f3f095",
            "809d088fa0da4c2d9fc6b73716a10951",
            "b58a4be82ced4acc99737d04e3daa7d8",
            "c72692315bf04dafa512b2317ce2317e",
            "2124b7fd0479455f87dadf93772ef926",
            "3605efc2842a4d0596a2b8e8c5070fa7",
            "19bd41a77ee44d9c9e063c3de985330d",
            "be21f7070adf4d3cb334e9fcecd8f70e",
            "b624f5914b6a4d0c8aaa67d60727f01b"
          ]
        },
        "outputId": "bd92ad76-f3fd-4a41-f426-c1a596ee2b03"
      },
      "source": [
        "widgets.VBox([widgets.HTML(value='<h1><b>Unet Tooth Internal Anatomy Prediction by <i> A.Adithya Sherwood </i></b></h1>'),\n",
        "              widgets.HTML(value='<p>Please Upload a <b>.png</b> slice</p>'),\n",
        "              uploaded_img,\n",
        "              out,\n",
        "              btn_run,\n",
        "              out_pred        \n",
        "              ])"
      ],
      "execution_count": 12,
      "outputs": [
        {
          "output_type": "display_data",
          "data": {
            "application/vnd.jupyter.widget-view+json": {
              "model_id": "e22b49b17e5642c1a07dd02313c19969",
              "version_minor": 0,
              "version_major": 2
            },
            "text/plain": [
              "VBox(children=(HTML(value='<h1><b>Unet Tooth Internal Anatomy Prediction by <i> A.Adithya Sherwood </i></b></h…"
            ]
          },
          "metadata": {
            "tags": []
          }
        }
      ]
    },
    {
      "cell_type": "code",
      "metadata": {
        "id": "XloDzgfLjWOh",
        "colab_type": "code",
        "colab": {}
      },
      "source": [
        ""
      ],
      "execution_count": null,
      "outputs": []
    }
  ]
}